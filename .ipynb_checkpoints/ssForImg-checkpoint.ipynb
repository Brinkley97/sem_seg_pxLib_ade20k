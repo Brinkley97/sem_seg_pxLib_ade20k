{
 "cells": [
  {
   "cell_type": "markdown",
   "id": "5c12de62",
   "metadata": {},
   "source": [
    "# Semantic Segmentation of Images with PixelLib using Ade20k Model\n",
    "- [PixelLib](https://pixellib.readthedocs.io/en/latest/image_ade20k.html#semantic-ade20k) : a library created by Ayoola Olafenwa to allow easy implementation of object segmentation in real life applications\n",
    "- [Ade20k Model](https://paperswithcode.com/dataset/ade20k) : A data set of imgs\n",
    "- Read [about segmentAsAde20k func](https://github.com/ayoolaolafenwa/PixelLib/blob/master/pixellib/semantic/__init__.py) starting on line 379"
   ]
  },
  {
   "cell_type": "code",
   "execution_count": 2,
   "id": "9fd2d55f",
   "metadata": {},
   "outputs": [],
   "source": [
    "import pixellib\n",
    "from pixellib.semantic import semantic_segmentation\n",
    "import cv2\n",
    "\n",
    "# rotate imgs\n",
    "from PIL import Image as pilImg\n",
    "\n",
    "# to print imgs here\n",
    "from IPython.display import Image as pyImg\n",
    "\n",
    "# to loop files\n",
    "import os"
   ]
  },
  {
   "cell_type": "code",
   "execution_count": 3,
   "id": "a06c48f7",
   "metadata": {},
   "outputs": [],
   "source": [
    "# instances of semantic_segmentation() class\n",
    "seg_img = semantic_segmentation()\n",
    "\n",
    "# func to load the model is .load_ade20k_model(name of file/model in dir)\n",
    "seg_img.load_ade20k_model(\"deeplabv3_xception65_ade20k.h5\")"
   ]
  },
  {
   "cell_type": "code",
   "execution_count": 4,
   "id": "fa4bdf5f",
   "metadata": {},
   "outputs": [
    {
     "name": "stdout",
     "output_type": "stream",
     "text": [
      "1 meInNY.jpg\n",
      "2 meInNY2.JPG\n",
      "3 meInNY3.JPG\n",
      "4 meInAK.JPG\n",
      "5 sky.JPG\n",
      "6 sky2.JPG\n",
      "7 ucb.JPG\n"
     ]
    }
   ],
   "source": [
    "# directory of images\n",
    "img_dir = os.listdir(\"imgs_to_use/\")\n",
    "\n",
    "# count num of imgs in dir\n",
    "count_img = 1\n",
    "\n",
    "# loop dir\n",
    "for img in img_dir :\n",
    "#     print(img)\n",
    "\n",
    "#     only get certain imgs\n",
    "    if img.endswith('.JPG') or img.endswith('.jpg') :\n",
    "        print(count_img, img)\n",
    "        \n",
    "#         preface img w/ img folder \n",
    "        img_dir_with_img = \"imgs_to_use/\" + img\n",
    "        \n",
    "#         get array of segmentation's output\n",
    "        seg_no_overlay_values, no_overlay = seg_img.segmentAsAde20k(img_dir_with_img)\n",
    "        seg_overlay_values, overlay = seg_img.segmentAsAde20k(img_dir_with_img, overlay = True)\n",
    "        \n",
    "#         dirs of where to save imgs\n",
    "        img_no_overlay = \"imgs_no_overlay/\" + img\n",
    "        img_overlay = \"imgs_overlay/\" + img\n",
    "        \n",
    "#         save img to dir\n",
    "        cv2.imwrite(img_no_overlay, no_overlay)\n",
    "        cv2.imwrite(img_overlay, overlay)\n",
    "        \n",
    "#         increment counting of imgs\n",
    "        count_img += 1"
   ]
  },
  {
   "cell_type": "markdown",
   "id": "16a3c4ce",
   "metadata": {},
   "source": [
    "# IGNORE\n",
    "\n",
    "## TODO :\n",
    "1. [ ] Create functions to apply overlay & no overlay\n",
    "2. [ ] Get img rotation & properly rotate\n",
    "3. [ ] Create list of extensions = ie : exts = ['.JPG', '.jpg', '.png'] instead of doing if img.endswith('.JPG') or img.endswith('.jpg')"
   ]
  },
  {
   "cell_type": "code",
   "execution_count": null,
   "id": "e42ecf1d",
   "metadata": {},
   "outputs": [],
   "source": [
    "# # show img here\n",
    "# print(\"Regular Image\")\n",
    "# path = os.path.abspath('img/meInAK.JPG')\n",
    "# print(path)\n",
    "# # pyImg(filename = 'img/meInAK.JPG', width = 470)"
   ]
  },
  {
   "cell_type": "code",
   "execution_count": null,
   "id": "cae43969",
   "metadata": {},
   "outputs": [],
   "source": [
    "# def ss_no_overlay() : \n",
    "#     # get array of segmentation's output w/ out overlay \n",
    "#     segvalues, output = seg_img.segmentAsAde20k(\"img/meInAK.JPG\")\n",
    "\n",
    "#     # save img to file\n",
    "#     cv2.imwrite(\"new_img/meInAK_without_overlay.JPG\", output)\n",
    "#     # print(output.shape)\n",
    "\n",
    "#     # rotate img\n",
    "#     rotateImg = pilImg.open(\"new_img/meInAK_without_overlay.JPG\")\n",
    "#     angle = 270\n",
    "#     out = rotateImg.rotate(angle)\n",
    "\n",
    "#     # save rotated img\n",
    "#     out.save('new_rotated_img/rotated_meInAK_without_overlay.JPG')\n",
    "\n",
    "#     print(\"Image Without Overlay\")\n",
    "\n",
    "#     # take rotated img to store & print\n",
    "#     pyImg(filename = 'new_rotated_img/rotated_meInAK_without_overlay.JPG', width = 500)"
   ]
  },
  {
   "cell_type": "code",
   "execution_count": null,
   "id": "fcdf45ac",
   "metadata": {},
   "outputs": [],
   "source": [
    "# def ss_overlay() : \n",
    "#     # get array of segmentation's output w/ overlay\n",
    "#     segvalues, segoverlay = seg_img.segmentAsAde20k(\"img/meInAK.JPG\", overlay = True)\n",
    "\n",
    "#     # save img to file\n",
    "#     cv2.imwrite(\"new_img/meInAK_with_overlay.JPG\", segoverlay)\n",
    "#     # print(segoverlay.shape)\n",
    "\n",
    "#     # rotate img\n",
    "#     rotateImg = pilImg.open(\"new_img/meInAK_with_overlay.JPG\")\n",
    "#     angle = 270\n",
    "#     out = rotateImg.rotate(angle)\n",
    "\n",
    "#     # save rotated img to file\n",
    "#     out.save('new_rotated_img/rotated_meInAK_with_overlay.JPG')\n",
    "\n",
    "#     print(\"Image With Overlay\")\n",
    "\n",
    "#     # take rotated img to store & print\n",
    "#     pyImg(filename = 'new_rotated_img/rotated_meInAK_with_overlay.JPG', width = 500)"
   ]
  }
 ],
 "metadata": {
  "kernelspec": {
   "display_name": "Python 3 (ipykernel)",
   "language": "python",
   "name": "python3"
  },
  "language_info": {
   "codemirror_mode": {
    "name": "ipython",
    "version": 3
   },
   "file_extension": ".py",
   "mimetype": "text/x-python",
   "name": "python",
   "nbconvert_exporter": "python",
   "pygments_lexer": "ipython3",
   "version": "3.9.7"
  }
 },
 "nbformat": 4,
 "nbformat_minor": 5
}
