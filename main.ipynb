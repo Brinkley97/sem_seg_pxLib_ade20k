{
 "cells": [
  {
   "cell_type": "markdown",
   "id": "5c12de62",
   "metadata": {},
   "source": [
    "# Semantic Segmentation of Images with PixelLib using Ade20k Model\n",
    "[Link](https://pixellib.readthedocs.io/en/latest/image_ade20k.html#semantic-ade20k)"
   ]
  },
  {
   "cell_type": "code",
   "execution_count": 2,
   "id": "9fd2d55f",
   "metadata": {},
   "outputs": [],
   "source": [
    "import pixellib\n",
    "from pixellib.semantic import semantic_segmentation\n",
    "import cv2"
   ]
  },
  {
   "cell_type": "code",
   "execution_count": 3,
   "id": "a06c48f7",
   "metadata": {},
   "outputs": [],
   "source": [
    "# instances of semantic_segmentation() class\n",
    "seg_img = semantic_segmentation()\n",
    "\n",
    "# func to load the model\n",
    "seg_img.load_ade20k_model(\"deeplabv3_xception65_ade20k.h5\")"
   ]
  },
  {
   "cell_type": "code",
   "execution_count": null,
   "id": "ef0f81c6",
   "metadata": {},
   "outputs": [],
   "source": [
    "# performs segmentation on an img; 3 params :\n",
    "#     p_t_i : locate the img in the directory\n",
    "#     p_t_o_i : where the new img will be saved\n",
    "#     overlay : img w/ segmentation overlay\n",
    "# seg_img.segmentAsAde20k(\"img/meInAK.JPG\", output_image_name = \"new_img/\", overlay = True)"
   ]
  },
  {
   "cell_type": "code",
   "execution_count": 9,
   "id": "e42ecf1d",
   "metadata": {},
   "outputs": [
    {
     "name": "stdout",
     "output_type": "stream",
     "text": [
      "(1024, 1024, 3)\n"
     ]
    }
   ],
   "source": [
    "# get array of segmentation's output w/ out overlay\n",
    "segvalues, output = seg_img.segmentAsAde20k(\"img/teamUSA.JPG\")\n",
    "\n",
    "cv2.imwrite(\"new_img/new_teamUSA_without_overlay.JPG\", output)\n",
    "print(output.shape)"
   ]
  },
  {
   "cell_type": "code",
   "execution_count": 10,
   "id": "99cb7f81",
   "metadata": {},
   "outputs": [
    {
     "name": "stdout",
     "output_type": "stream",
     "text": [
      "(1024, 1024, 3)\n"
     ]
    }
   ],
   "source": [
    "# get array of segmentation's output w/ overlay\n",
    "segvalues, segoverlay = seg_img.segmentAsAde20k(\"img/teamUSA.JPG\", overlay = True)\n",
    "\n",
    "cv2.imwrite(\"new_img/new_teamUSA_with_overlay.JPG\", segoverlay)\n",
    "print(segoverlay.shape)"
   ]
  },
  {
   "cell_type": "code",
   "execution_count": null,
   "id": "799012c5",
   "metadata": {},
   "outputs": [],
   "source": [
    "seg_frame = semantic_segmentation()\n",
    "seg_frame.load_ade20k_model(\"deeplabv3_xception65_ade20k.h5\")"
   ]
  },
  {
   "cell_type": "code",
   "execution_count": null,
   "id": "9e66161f",
   "metadata": {},
   "outputs": [],
   "source": [
    "capture = cv2.VideoCapture(0)\n",
    "while True : \n",
    "    ret, frame = capture.read()\n",
    "    seg_video.segmentFrameAsAde20k(frame)"
   ]
  },
  {
   "cell_type": "code",
   "execution_count": null,
   "id": "fadac3b5",
   "metadata": {},
   "outputs": [],
   "source": []
  }
 ],
 "metadata": {
  "kernelspec": {
   "display_name": "Python 3 (ipykernel)",
   "language": "python",
   "name": "python3"
  },
  "language_info": {
   "codemirror_mode": {
    "name": "ipython",
    "version": 3
   },
   "file_extension": ".py",
   "mimetype": "text/x-python",
   "name": "python",
   "nbconvert_exporter": "python",
   "pygments_lexer": "ipython3",
   "version": "3.9.7"
  }
 },
 "nbformat": 4,
 "nbformat_minor": 5
}
