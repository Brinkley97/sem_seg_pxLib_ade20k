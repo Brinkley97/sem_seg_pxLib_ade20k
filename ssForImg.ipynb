{
 "cells": [
  {
   "cell_type": "markdown",
   "id": "5c12de62",
   "metadata": {},
   "source": [
    "# Semantic Segmentation of Images with PixelLib using Ade20k Model\n",
    "- [PixelLib](https://pixellib.readthedocs.io/en/latest/image_ade20k.html#semantic-ade20k) : a library created by Ayoola Olafenwa to allow easy implementation of object segmentation in real life applications\n",
    "- [Ade20k Model](https://paperswithcode.com/dataset/ade20k) : A data set of imgs\n",
    "- Read [about segmentAsAde20k func](https://github.com/ayoolaolafenwa/PixelLib/blob/master/pixellib/semantic/__init__.py) starting on line 379"
   ]
  },
  {
   "cell_type": "code",
   "execution_count": 1,
   "id": "9fd2d55f",
   "metadata": {},
   "outputs": [
    {
     "name": "stderr",
     "output_type": "stream",
     "text": [
      "2022-07-12 22:50:19.921177: I tensorflow/core/platform/cpu_feature_guard.cc:151] This TensorFlow binary is optimized with oneAPI Deep Neural Network Library (oneDNN) to use the following CPU instructions in performance-critical operations:  AVX2 FMA\n",
      "To enable them in other operations, rebuild TensorFlow with the appropriate compiler flags.\n"
     ]
    }
   ],
   "source": [
    "import pixellib\n",
    "from pixellib.semantic import semantic_segmentation\n",
    "import cv2\n",
    "import numpy as np\n",
    "\n",
    "# rotate imgs; ExifTags to rotate imgs\n",
    "from PIL import Image as pilImg\n",
    "import imutils\n",
    "from matplotlib import cm\n",
    "\n",
    "# to print imgs here\n",
    "from IPython.display import Image as pyImg\n",
    "\n",
    "# to loop files\n",
    "import os"
   ]
  },
  {
   "cell_type": "code",
   "execution_count": 2,
   "id": "a06c48f7",
   "metadata": {},
   "outputs": [],
   "source": [
    "# instances of semantic_segmentation() class\n",
    "seg_img = semantic_segmentation()\n",
    "\n",
    "# func to load the model is .load_ade20k_model(name of file/model in dir)\n",
    "seg_img.load_ade20k_model(\"deeplabv3_xception65_ade20k.h5\")"
   ]
  },
  {
   "cell_type": "markdown",
   "id": "16a3c4ce",
   "metadata": {},
   "source": [
    "# IGNORE\n",
    "\n",
    "## TODO :\n",
    "1. [ ] Create functions to apply overlay & no overlay\n",
    "2. [ ] Get img rotation & properly rotate\n",
    "3. [ ] Create list of extensions = ie : exts = ['.JPG', '.jpg', '.png'] instead of doing if img.endswith('.JPG') or img.endswith('.jpg')"
   ]
  },
  {
   "cell_type": "code",
   "execution_count": 3,
   "id": "fd0b1768",
   "metadata": {},
   "outputs": [],
   "source": [
    "def rotate_img(path) :\n",
    "    \n",
    "    p = pilImg.open(path)\n",
    "#     print(\"shape : \", type(p.size))\n",
    "    w, h = p.size\n",
    "    if w > h :\n",
    "#         print(\"w > h\")\n",
    "        out = p.rotate(90)\n",
    "        print(\"out : \", type(out))\n",
    "        w, h = out.size\n",
    "        out.save(path)\n",
    "        \n",
    "    if w < h : \n",
    "        print(\"w < h\")"
   ]
  },
  {
   "cell_type": "code",
   "execution_count": 4,
   "id": "2272fb2b",
   "metadata": {},
   "outputs": [],
   "source": [
    "def rotate_img(path) :\n",
    "    pi_image = pilImg.open(path)\n",
    "#     print(\"pi_image type : \", type(pi_image))\n",
    "    cv2_image = cv2.imread(path)\n",
    "#     print(\"cv2_image type : \", type(cv2_image))\n",
    "\n",
    "    # loop over the rotation angles\n",
    "    for angle in np.arange(0, 360, 75):\n",
    "        rotated = imutils.rotate(cv2_image, angle)\n",
    "#         print(\"type : \", type(rotated))\n",
    "        new_new = pilImg.fromarray(np.uint8(rotated)).convert('RGB')\n",
    "        new_new = pilImg.fromarray(rotated.astype('uint8'),'RGB')\n",
    "        new_new.save(path)\n",
    "#         cv2.imshow(\"Rotated (Problematic)\", rotated)\n",
    "#         cv2.waitKey(0)\n",
    "\n",
    "    # loop over the rotation angles again, this time ensuring\n",
    "    # no part of the image is cut off\n",
    "    for angle in np.arange(0, 360, 75):\n",
    "        rotated = imutils.rotate_bound(cv2_image, angle)\n",
    "#         print(\"type : \", type(rotated))\n",
    "        new_new = pilImg.fromarray(np.uint8(rotated)).convert('RGB')\n",
    "        new_new = pilImg.fromarray(rotated.astype('uint8'),'RGB')\n",
    "        new_new.save(path)\n",
    "#         cv2.imwrite(rotated, cv2_image)\n",
    "#         print(\"2\")\n",
    "#         cv2.imshow(\"Rotated (Correct)\", rotated)\n",
    "#         cv2.waitKey(0)"
   ]
  },
  {
   "cell_type": "code",
   "execution_count": 5,
   "id": "258f76bd",
   "metadata": {},
   "outputs": [
    {
     "name": "stdout",
     "output_type": "stream",
     "text": [
      "1 trail-6_00001.png\n",
      "2 trail-14_01001.png\n",
      "3 park-1_02001.png\n",
      "4 trail-10_00001.png\n",
      "5 trail-6_02001.png\n",
      "6 park-1_00001.png\n",
      "7 trail-11_02001.png\n",
      "8 trail-7_00001.png\n",
      "9 trail_02001.png\n",
      "10 meInNY2.JPG\n",
      "11 meInNY3.JPG\n",
      "12 trail_00001.png\n",
      "13 trail-11_00001.png\n",
      "14 meInAK.JPG\n",
      "15 trail-4_00001.png\n",
      "16 park-8_00001.png\n",
      "17 trail-9_00001.png\n",
      "18 park-2_00501.png\n",
      "19 sky.JPG\n",
      "20 trail-4_02001.png\n",
      "21 4.jpg\n",
      "22 park-2_02001.png\n",
      "23 sky2.JPG\n",
      "24 creek_02001.png\n",
      "25 trail-5_00001.png\n",
      "26 trail-3_02001.png\n",
      "27 trail-12_00501.png\n",
      "28 trail-15_00001.png\n",
      "29 2.jpg\n",
      "30 trail-3_00001.png\n",
      "31 3.jpg\n",
      "32 1.jpg\n",
      "33 village_00003.png\n",
      "34 creek_00001.png\n",
      "35 ucb.JPG\n",
      "36 trail-13_00001.png\n"
     ]
    }
   ],
   "source": [
    "# directory of images\n",
    "img_dir = os.listdir(\"imgs_to_use/\")\n",
    "\n",
    "# count num of imgs in dir\n",
    "count_img = 1\n",
    "\n",
    "# loop dir\n",
    "for img in img_dir :\n",
    "#     print(img)\n",
    "\n",
    "#     only get certain imgs\n",
    "    if img.endswith('.JPG') or img.endswith('.jpg') or img.endswith('.png'):\n",
    "        print(count_img, img)\n",
    "        \n",
    "#         preface img w/ img folder \n",
    "        img_dir_with_img = \"imgs_to_use/\" + img\n",
    "#         print(\"img_dir_with_img : \", img_dir_with_img)\n",
    "#         rotate imgs\n",
    "        \n",
    "#         get array of segmentation's output\n",
    "        seg_no_overlay_values, no_overlay = seg_img.segmentAsAde20k(img_dir_with_img)\n",
    "        seg_overlay_values, overlay = seg_img.segmentAsAde20k(img_dir_with_img, overlay = True)\n",
    "        \n",
    "#         dirs of where to save imgs\n",
    "        img_no_overlay = \"imgs_no_overlay/\" + img\n",
    "        img_overlay = \"imgs_overlay/\" + img\n",
    "        \n",
    "#         print(\"img_overlay : \", img_overlay)\n",
    "        \n",
    "        \n",
    "#         save img to dir\n",
    "        cv2.imwrite(img_no_overlay, no_overlay)\n",
    "#         print(\"img_no_overlay : \\n\", img_no_overlay, \"\\nno_overlay : \", no_overlay)\n",
    "        cv2.imwrite(img_overlay, overlay)\n",
    "#         print(\"img_overlay : \\n\", img_overlay, \"\\noverlay : \", overlay)\n",
    "        \n",
    "        rotate_img(img_overlay)\n",
    "        \n",
    "        \n",
    "        \n",
    "#         increment counting of imgs\n",
    "        count_img += 1"
   ]
  },
  {
   "cell_type": "code",
   "execution_count": null,
   "id": "60a7469b",
   "metadata": {},
   "outputs": [],
   "source": []
  }
 ],
 "metadata": {
  "kernelspec": {
   "display_name": "Python 3 (ipykernel)",
   "language": "python",
   "name": "python3"
  },
  "language_info": {
   "codemirror_mode": {
    "name": "ipython",
    "version": 3
   },
   "file_extension": ".py",
   "mimetype": "text/x-python",
   "name": "python",
   "nbconvert_exporter": "python",
   "pygments_lexer": "ipython3",
   "version": "3.9.7"
  }
 },
 "nbformat": 4,
 "nbformat_minor": 5
}
