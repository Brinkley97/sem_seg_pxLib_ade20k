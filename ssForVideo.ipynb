{
 "cells": [
  {
   "cell_type": "markdown",
   "id": "e4b3ec85",
   "metadata": {},
   "source": [
    "TODO : Get video to show in notebook"
   ]
  },
  {
   "cell_type": "code",
   "execution_count": null,
   "id": "a0bcb74a",
   "metadata": {},
   "outputs": [],
   "source": [
    "import pixellib\n",
    "from pixellib.semantic import semantic_segmentation\n",
    "import cv2\n",
    "\n",
    "# rotate imgs\n",
    "from PIL import Image as pilImg\n",
    "\n",
    "from IPython.display import Video\n",
    "\n",
    "import moviepy.editor as moviepy\n",
    "\n",
    "# to print imgs here\n",
    "from IPython.display import Image as pyImg"
   ]
  },
  {
   "cell_type": "code",
   "execution_count": null,
   "id": "dde946f3",
   "metadata": {},
   "outputs": [],
   "source": [
    "seg_vid = semantic_segmentation()\n",
    "\n",
    "seg_vid.load_ade20k_model(\"deeplabv3_xception65_ade20k.h5\")\n",
    "\n",
    "vid = seg_vid.process_video_ade20k(\"video/i20.mov\", frames_per_second = 10, output_video_name = \"new_video/i20.mov\")\n",
    "\n",
    "new_vid = moviepy.VideoFileClip(\"new_video/i20.mov\")\n",
    "new_vid.write_videofile(\"new_video/i20.mp4\")"
   ]
  },
  {
   "cell_type": "code",
   "execution_count": null,
   "id": "10bd6a3a",
   "metadata": {},
   "outputs": [],
   "source": [
    "# show video here\n",
    "Video(\"video/i20.mov\")"
   ]
  },
  {
   "cell_type": "code",
   "execution_count": null,
   "id": "15929c0c",
   "metadata": {},
   "outputs": [],
   "source": [
    "Video(\"video/i20.mov\")"
   ]
  },
  {
   "cell_type": "code",
   "execution_count": null,
   "id": "eb946b83",
   "metadata": {},
   "outputs": [],
   "source": []
  }
 ],
 "metadata": {
  "kernelspec": {
   "display_name": "Python 3 (ipykernel)",
   "language": "python",
   "name": "python3"
  },
  "language_info": {
   "codemirror_mode": {
    "name": "ipython",
    "version": 3
   },
   "file_extension": ".py",
   "mimetype": "text/x-python",
   "name": "python",
   "nbconvert_exporter": "python",
   "pygments_lexer": "ipython3",
   "version": "3.9.7"
  }
 },
 "nbformat": 4,
 "nbformat_minor": 5
}
